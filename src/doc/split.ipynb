{
 "cells": [
  {
   "cell_type": "markdown",
   "metadata": {
    "id": "_xnMOsbqHz61"
   },
   "source": [
    "# Stratified Splitting\n",
    "\n",
    "This notebook provides several tutorials on how to utilize any algorithm proposed\n",
    "in the **straSplit** package to split a multi-label dataset using less explored\n",
    "[stratified strategy](https://bit.ly/3s3IDA8). Please install\n",
    "[anaconda](https://www.anaconda.com/) package and other modules listed\n",
    "in [requirement.txt](../../requirements.txt) file."
   ]
  },
  {
   "cell_type": "markdown",
   "metadata": {
    "id": "_xnMOsbqHz61"
   },
   "source": [
    "# Load modules and datasets\n",
    "\n",
    "First, let us change the directory to the `model`."
   ]
  },
  {
   "cell_type": "code",
   "execution_count": 1,
   "metadata": {},
   "outputs": [
    {
     "data": {
      "text/plain": [
       "'D:\\\\MultiLabel\\\\straSplit\\\\src\\\\model'"
      ]
     },
     "execution_count": 1,
     "metadata": {},
     "output_type": "execute_result"
    }
   ],
   "source": [
    "import os\n",
    "os.chdir('../model')\n",
    "os.getcwd()"
   ]
  },
  {
   "cell_type": "markdown",
   "metadata": {},
   "source": [
    "Also, load the following modules to run the algorithms introduced in this notebook."
   ]
  },
  {
   "cell_type": "code",
   "execution_count": 2,
   "metadata": {},
   "outputs": [],
   "source": [
    "import pickle as pkl\n",
    "import pandas as pd\n",
    "from IPython.display import HTML, display\n",
    "\n",
    "## load utilities\n",
    "from utils import DATASET_PATH,RESULT_PATH, data_properties\n",
    "from utils import check_type, custom_shuffle, data_properties, LabelBinarizer\n",
    "\n",
    "## load modules\n",
    "from naive2split import NaiveStratification\n",
    "from iterative2split import IterativeStratification\n",
    "from extreme2split import ExtremeStratification\n",
    "from plssvd2split import ClusterStratification\n",
    "from eigencluster2split import ClusteringEigenStratification\n",
    "from comm2split import CommunityStratification\n",
    "from enhance2split import LabelEnhancementStratification\n",
    "from active2split import ActiveStratification\n",
    "from gan2split import GANStratification\n",
    "\n",
    "## Set dataframe to maxwidth\n",
    "pd.set_option('display.max_columns', None)  # or 1000\n",
    "pd.set_option('display.max_rows', None)  # or 1000\n",
    "pd.set_option('display.max_colwidth', None)  # or 199"
   ]
  },
  {
   "cell_type": "markdown",
   "metadata": {},
   "source": [
    "Make sure that to ensure that **DATASET_PATH** (dataset folder) and **RESULT_PATH** (results folder, such as dataset properties) are non-empty and set appropriately in the [utils.py](utils.py) module.\n",
    "\n",
    "Now, let us assign values to the following arguments:"
   ]
  },
  {
   "cell_type": "code",
   "execution_count": 3,
   "metadata": {},
   "outputs": [],
   "source": [
    "split_type = \"extreme\"\n",
    "split_size = 0.80\n",
    "num_epochs = 10\n",
    "num_jobs = 2\n",
    "use_solver = False"
   ]
  },
  {
   "cell_type": "markdown",
   "metadata": {},
   "source": [
    "where `use_solver` is only applicable in the context of `active2split` module. This argument suggests whether to utilize the sklearn based optimization algorithm ([SGDClassifier](https://scikit-learn.org/stable/modules/generated/sklearn.linear_model.SGDClassifier.html)) or the custom build optimization algorithm. split_type takes only: `extreme\"`, `\"iterative\"`, and `\"naive\"` while `split_size` represents the proportion of the dataset to include in training set.\n",
    "\n",
    "Let us use the well-known \"birds\" multi-label data. The data is comprised of 351 examples with $\\mathbb{R}^{260}$ dimension each and 19 distinct classes."
   ]
  },
  {
   "cell_type": "code",
   "execution_count": 4,
   "metadata": {},
   "outputs": [
    {
     "name": "stdout",
     "output_type": "stream",
     "text": [
      "Size of the data:  (351, 260)\n",
      "Label size of the data:  19\n"
     ]
    }
   ],
   "source": [
    "dsname=\"birds\"\n",
    "X_name = dsname + \"_X.pkl\"\n",
    "y_name = dsname + \"_y.pkl\"\n",
    "file_path = os.path.join(DATASET_PATH, y_name)\n",
    "with open(file_path, mode=\"rb\") as f_in:\n",
    "    y = pkl.load(f_in)\n",
    "    idx = list(set(y.nonzero()[0]))\n",
    "    y = y[idx]\n",
    "\n",
    "file_path = os.path.join(DATASET_PATH, X_name)\n",
    "with open(file_path, mode=\"rb\") as f_in:\n",
    "    X = pkl.load(f_in)\n",
    "    X = X[idx]\n",
    "\n",
    "print(\"Size of the data: \", X.shape)\n",
    "print(\"Label size of the data: \", y.shape[1])"
   ]
  },
  {
   "cell_type": "markdown",
   "metadata": {},
   "source": [
    "Using the above data and configuration arguments, we will show some interesting outcomes using each splitting strategies.\n",
    "\n",
    "**We note that our discussions are primarily focused on the \"birds\" dataset and are not necessarily extensible to other datasets.**"
   ]
  },
  {
   "cell_type": "markdown",
   "metadata": {},
   "source": [
    "## Naive approach\n",
    "This strategy was proposed in the [paper](https://doi.org/10.1371/journal.pcbi.1008174) and integrated into the [mlLGPR](https://github.com/hallamlab/mlLGPR) software for the purpose of pathway prediction. This is an iterative procedure where at first it selects a label, independently of others, then finds examples associated with this label. Next, the algorithm splits data based on the `split_size` parameter and assigns examples to training and test sets accordingly. If an example was already being added to the test or training sets then continue the process by selecting another label at random. This process iterates until all examples are consumed in the splitting process according to the `split_size` parameter which may not partition examples according to that threshold due to multiple labels being assigned to the same example. This approach, although being simple, it is nonetheless scalable to large-scale data. However, it suffers from the class imbalance problem and being naive that does not consider label-correlations to split a dataset. \n",
    "\n",
    "To see the results using this algorithm, you may run the following command."
   ]
  },
  {
   "cell_type": "code",
   "execution_count": 5,
   "metadata": {
    "pycharm": {
     "name": "#%%\n"
    }
   },
   "outputs": [
    {
     "name": "stderr",
     "output_type": "stream",
     "text": [
      "## Configuration parameters to naive based stratified multi-label dataset\n",
      "   splitting:\n",
      "\t\t1. Shuffle the dataset? True\n",
      "\t\t2. Split size: 0.8\n",
      "\t\t3. Number of examples to use in each iteration: 500\n",
      "\t\t4. Number of parallel workers: 2\n"
     ]
    },
    {
     "name": "stdout",
     "output_type": "stream",
     "text": [
      "\t>> Perform splitting...\n",
      "\t\t--> Splitting progress: 100.00%...\n"
     ]
    }
   ],
   "source": [
    "st = NaiveStratification(shuffle=True, split_size=split_size, batch_size=500,\n",
    "                         num_jobs=num_jobs)\n",
    "training_idx, test_idx = st.fit(y=y)"
   ]
  },
  {
   "cell_type": "markdown",
   "metadata": {
    "pycharm": {
     "name": "#%% md\n"
    }
   },
   "source": [
    "where *training_idx* and *test_idx* are two lists corresponding to the indices of the given dataset.\n",
    "\n",
    "Let us explore some properties of the resulted training anda test sets."
   ]
  },
  {
   "cell_type": "code",
   "execution_count": 6,
   "metadata": {
    "collapsed": false,
    "jupyter": {
     "outputs_hidden": false
    },
    "pycharm": {
     "name": "#%%\n"
    }
   },
   "outputs": [
    {
     "data": {
      "text/html": [
       "<div>\n",
       "<style scoped>\n",
       "    .dataframe tbody tr th:only-of-type {\n",
       "        vertical-align: middle;\n",
       "    }\n",
       "\n",
       "    .dataframe tbody tr th {\n",
       "        vertical-align: top;\n",
       "    }\n",
       "\n",
       "    .dataframe thead th {\n",
       "        text-align: right;\n",
       "    }\n",
       "</style>\n",
       "<table border=\"1\" class=\"dataframe\">\n",
       "  <thead>\n",
       "    <tr style=\"text-align: right;\">\n",
       "      <th></th>\n",
       "      <th>Properties for birds</th>\n",
       "      <th>Complete set</th>\n",
       "      <th>Training set</th>\n",
       "      <th>Test set</th>\n",
       "    </tr>\n",
       "  </thead>\n",
       "  <tbody>\n",
       "    <tr>\n",
       "      <th>0</th>\n",
       "      <td>Number of examples</td>\n",
       "      <td>351</td>\n",
       "      <td>281</td>\n",
       "      <td>70</td>\n",
       "    </tr>\n",
       "    <tr>\n",
       "      <th>1</th>\n",
       "      <td>Number of labels</td>\n",
       "      <td>654</td>\n",
       "      <td>524</td>\n",
       "      <td>130</td>\n",
       "    </tr>\n",
       "    <tr>\n",
       "      <th>2</th>\n",
       "      <td>Label cardinality</td>\n",
       "      <td>1.863248</td>\n",
       "      <td>1.864769</td>\n",
       "      <td>1.857143</td>\n",
       "    </tr>\n",
       "    <tr>\n",
       "      <th>3</th>\n",
       "      <td>Label density</td>\n",
       "      <td>0.002849</td>\n",
       "      <td>0.003559</td>\n",
       "      <td>0.014286</td>\n",
       "    </tr>\n",
       "    <tr>\n",
       "      <th>4</th>\n",
       "      <td>Distinct label sets</td>\n",
       "      <td>19</td>\n",
       "      <td>19</td>\n",
       "      <td>19</td>\n",
       "    </tr>\n",
       "    <tr>\n",
       "      <th>5</th>\n",
       "      <td>Frequency of distinct label sets</td>\n",
       "      <td>0.054131</td>\n",
       "      <td>0.067616</td>\n",
       "      <td>0.271429</td>\n",
       "    </tr>\n",
       "    <tr>\n",
       "      <th>6</th>\n",
       "      <td>Labels having less than or equal to 5 examples</td>\n",
       "      <td>0</td>\n",
       "      <td>1</td>\n",
       "      <td>8</td>\n",
       "    </tr>\n",
       "    <tr>\n",
       "      <th>7</th>\n",
       "      <td>Labels having more than 6 examples</td>\n",
       "      <td>19</td>\n",
       "      <td>18</td>\n",
       "      <td>11</td>\n",
       "    </tr>\n",
       "    <tr>\n",
       "      <th>8</th>\n",
       "      <td>KL difference between complete and data partition</td>\n",
       "      <td>0</td>\n",
       "      <td>0.000883</td>\n",
       "      <td>0.016654</td>\n",
       "    </tr>\n",
       "  </tbody>\n",
       "</table>\n",
       "</div>"
      ],
      "text/plain": [
       "                                Properties for birds Complete set  \\\n",
       "0                                 Number of examples          351   \n",
       "1                                   Number of labels          654   \n",
       "2                                  Label cardinality     1.863248   \n",
       "3                                      Label density     0.002849   \n",
       "4                                Distinct label sets           19   \n",
       "5                   Frequency of distinct label sets     0.054131   \n",
       "6     Labels having less than or equal to 5 examples            0   \n",
       "7                 Labels having more than 6 examples           19   \n",
       "8  KL difference between complete and data partition            0   \n",
       "\n",
       "  Training set  Test set  \n",
       "0          281        70  \n",
       "1          524       130  \n",
       "2     1.864769  1.857143  \n",
       "3     0.003559  0.014286  \n",
       "4           19        19  \n",
       "5     0.067616  0.271429  \n",
       "6            1         8  \n",
       "7           18        11  \n",
       "8     0.000883  0.016654  "
      ]
     },
     "execution_count": 6,
     "metadata": {},
     "output_type": "execute_result"
    }
   ],
   "source": [
    "model_name = \"naive2split\"\n",
    "df, chart = data_properties(y=y, selected_examples=[training_idx, test_idx], num_tails=5, dataset_name=dsname,\n",
    "                            model_name=model_name, rspath=RESULT_PATH, display_dataframe=False)\n",
    "df"
   ]
  },
  {
   "cell_type": "markdown",
   "metadata": {},
   "source": [
    "where *Label cardinality* is defined as the mean number of labels associated for an example, *Label density* is defined as cardinality divided by the number of labels, *Distinct label sets* is defined as the number of distinct labels in the data, *Ferequency of distinct label sets* is defined as the number of appearances of distinct labels divided by the total number of examples, and *KL* (Kullback-divergence) difference between complete and data partition measures the difference between two probability distributions where low number explains that a partitioned data is closely resembling the complete data label distributions.\n",
    "\n",
    "From the table, we observe that both training and test sets are close approximated to the complete data with regard to the KL metric. \n",
    "\n",
    "Let us plot the resulted data in terms of the frequency of examples for each label."
   ]
  },
  {
   "cell_type": "code",
   "execution_count": 7,
   "metadata": {},
   "outputs": [
    {
     "data": {
      "text/html": [
       "\n",
       "<div id=\"altair-viz-6b9c974845944b918e4afb674ac47f0a\"></div>\n",
       "<script type=\"text/javascript\">\n",
       "  (function(spec, embedOpt){\n",
       "    let outputDiv = document.currentScript.previousElementSibling;\n",
       "    if (outputDiv.id !== \"altair-viz-6b9c974845944b918e4afb674ac47f0a\") {\n",
       "      outputDiv = document.getElementById(\"altair-viz-6b9c974845944b918e4afb674ac47f0a\");\n",
       "    }\n",
       "    const paths = {\n",
       "      \"vega\": \"https://cdn.jsdelivr.net/npm//vega@5?noext\",\n",
       "      \"vega-lib\": \"https://cdn.jsdelivr.net/npm//vega-lib?noext\",\n",
       "      \"vega-lite\": \"https://cdn.jsdelivr.net/npm//vega-lite@4.8.1?noext\",\n",
       "      \"vega-embed\": \"https://cdn.jsdelivr.net/npm//vega-embed@6?noext\",\n",
       "    };\n",
       "\n",
       "    function loadScript(lib) {\n",
       "      return new Promise(function(resolve, reject) {\n",
       "        var s = document.createElement('script');\n",
       "        s.src = paths[lib];\n",
       "        s.async = true;\n",
       "        s.onload = () => resolve(paths[lib]);\n",
       "        s.onerror = () => reject(`Error loading script: ${paths[lib]}`);\n",
       "        document.getElementsByTagName(\"head\")[0].appendChild(s);\n",
       "      });\n",
       "    }\n",
       "\n",
       "    function showError(err) {\n",
       "      outputDiv.innerHTML = `<div class=\"error\" style=\"color:red;\">${err}</div>`;\n",
       "      throw err;\n",
       "    }\n",
       "\n",
       "    function displayChart(vegaEmbed) {\n",
       "      vegaEmbed(outputDiv, spec, embedOpt)\n",
       "        .catch(err => showError(`Javascript Error: ${err.message}<br>This usually means there's a typo in your chart specification. See the javascript console for the full traceback.`));\n",
       "    }\n",
       "\n",
       "    if(typeof define === \"function\" && define.amd) {\n",
       "      requirejs.config({paths});\n",
       "      require([\"vega-embed\"], displayChart, err => showError(`Error loading script: ${err.message}`));\n",
       "    } else if (typeof vegaEmbed === \"function\") {\n",
       "      displayChart(vegaEmbed);\n",
       "    } else {\n",
       "      loadScript(\"vega\")\n",
       "        .then(() => loadScript(\"vega-lite\"))\n",
       "        .then(() => loadScript(\"vega-embed\"))\n",
       "        .catch(showError)\n",
       "        .then(() => displayChart(vegaEmbed));\n",
       "    }\n",
       "  })({\"data\": {\"name\": \"data-e6a70a54305dc6dc42ece67f246a4aab\"}, \"mark\": {\"type\": \"bar\", \"color\": \"grey\"}, \"config\": {\"axis\": {\"labelFontSize\": 12, \"labelLimit\": 500, \"labelPadding\": 5, \"titleFontSize\": 20}, \"axisY\": {\"grid\": false}, \"header\": {\"labelFontSize\": 15, \"titleFontSize\": 20}, \"legend\": {\"cornerRadius\": 10, \"fillColor\": \"white\", \"padding\": 10, \"strokeColor\": \"gray\"}}, \"encoding\": {\"color\": {\"type\": \"nominal\", \"field\": \"Dataset\", \"scale\": {\"range\": [\"red\", \"black\", \"blue\"]}}, \"x\": {\"type\": \"ordinal\", \"field\": \"Label\", \"sort\": \"ascending\", \"title\": \"Label ID\"}, \"y\": {\"type\": \"quantitative\", \"field\": \"Sum\", \"stack\": null, \"title\": \"Number of Examples\"}}, \"height\": 350, \"resolve\": {\"scale\": {\"x\": \"independent\"}}, \"width\": 600, \"$schema\": \"https://vega.github.io/schema/vega-lite/v4.8.1.json\", \"datasets\": {\"data-e6a70a54305dc6dc42ece67f246a4aab\": [{\"Label\": 1, \"Dataset\": \"Complete\", \"Sum\": 6}, {\"Label\": 2, \"Dataset\": \"Complete\", \"Sum\": 9}, {\"Label\": 3, \"Dataset\": \"Complete\", \"Sum\": 9}, {\"Label\": 4, \"Dataset\": \"Complete\", \"Sum\": 10}, {\"Label\": 5, \"Dataset\": \"Complete\", \"Sum\": 14}, {\"Label\": 6, \"Dataset\": \"Complete\", \"Sum\": 14}, {\"Label\": 7, \"Dataset\": \"Complete\", \"Sum\": 17}, {\"Label\": 8, \"Dataset\": \"Complete\", \"Sum\": 20}, {\"Label\": 9, \"Dataset\": \"Complete\", \"Sum\": 26}, {\"Label\": 10, \"Dataset\": \"Complete\", \"Sum\": 28}, {\"Label\": 11, \"Dataset\": \"Complete\", \"Sum\": 33}, {\"Label\": 12, \"Dataset\": \"Complete\", \"Sum\": 37}, {\"Label\": 13, \"Dataset\": \"Complete\", \"Sum\": 40}, {\"Label\": 14, \"Dataset\": \"Complete\", \"Sum\": 46}, {\"Label\": 15, \"Dataset\": \"Complete\", \"Sum\": 47}, {\"Label\": 16, \"Dataset\": \"Complete\", \"Sum\": 53}, {\"Label\": 17, \"Dataset\": \"Complete\", \"Sum\": 61}, {\"Label\": 18, \"Dataset\": \"Complete\", \"Sum\": 81}, {\"Label\": 19, \"Dataset\": \"Complete\", \"Sum\": 103}, {\"Label\": 1, \"Dataset\": \"Train\", \"Sum\": 5}, {\"Label\": 2, \"Dataset\": \"Train\", \"Sum\": 8}, {\"Label\": 3, \"Dataset\": \"Train\", \"Sum\": 6}, {\"Label\": 4, \"Dataset\": \"Train\", \"Sum\": 8}, {\"Label\": 5, \"Dataset\": \"Train\", \"Sum\": 11}, {\"Label\": 6, \"Dataset\": \"Train\", \"Sum\": 11}, {\"Label\": 7, \"Dataset\": \"Train\", \"Sum\": 16}, {\"Label\": 8, \"Dataset\": \"Train\", \"Sum\": 16}, {\"Label\": 9, \"Dataset\": \"Train\", \"Sum\": 20}, {\"Label\": 10, \"Dataset\": \"Train\", \"Sum\": 22}, {\"Label\": 11, \"Dataset\": \"Train\", \"Sum\": 25}, {\"Label\": 12, \"Dataset\": \"Train\", \"Sum\": 30}, {\"Label\": 13, \"Dataset\": \"Train\", \"Sum\": 33}, {\"Label\": 14, \"Dataset\": \"Train\", \"Sum\": 37}, {\"Label\": 15, \"Dataset\": \"Train\", \"Sum\": 38}, {\"Label\": 16, \"Dataset\": \"Train\", \"Sum\": 42}, {\"Label\": 17, \"Dataset\": \"Train\", \"Sum\": 50}, {\"Label\": 18, \"Dataset\": \"Train\", \"Sum\": 65}, {\"Label\": 19, \"Dataset\": \"Train\", \"Sum\": 81}, {\"Label\": 1, \"Dataset\": \"Test\", \"Sum\": 1}, {\"Label\": 2, \"Dataset\": \"Test\", \"Sum\": 1}, {\"Label\": 3, \"Dataset\": \"Test\", \"Sum\": 3}, {\"Label\": 4, \"Dataset\": \"Test\", \"Sum\": 2}, {\"Label\": 5, \"Dataset\": \"Test\", \"Sum\": 3}, {\"Label\": 6, \"Dataset\": \"Test\", \"Sum\": 3}, {\"Label\": 7, \"Dataset\": \"Test\", \"Sum\": 1}, {\"Label\": 8, \"Dataset\": \"Test\", \"Sum\": 4}, {\"Label\": 9, \"Dataset\": \"Test\", \"Sum\": 6}, {\"Label\": 10, \"Dataset\": \"Test\", \"Sum\": 6}, {\"Label\": 11, \"Dataset\": \"Test\", \"Sum\": 8}, {\"Label\": 12, \"Dataset\": \"Test\", \"Sum\": 7}, {\"Label\": 13, \"Dataset\": \"Test\", \"Sum\": 7}, {\"Label\": 14, \"Dataset\": \"Test\", \"Sum\": 9}, {\"Label\": 15, \"Dataset\": \"Test\", \"Sum\": 9}, {\"Label\": 16, \"Dataset\": \"Test\", \"Sum\": 11}, {\"Label\": 17, \"Dataset\": \"Test\", \"Sum\": 11}, {\"Label\": 18, \"Dataset\": \"Test\", \"Sum\": 16}, {\"Label\": 19, \"Dataset\": \"Test\", \"Sum\": 22}]}}, {\"mode\": \"vega-lite\"});\n",
       "</script>"
      ],
      "text/plain": [
       "alt.Chart(...)"
      ]
     },
     "execution_count": 7,
     "metadata": {},
     "output_type": "execute_result"
    }
   ],
   "source": [
    "chart"
   ]
  },
  {
   "cell_type": "markdown",
   "metadata": {},
   "source": [
    "The above chart confirms our observation from the table."
   ]
  },
  {
   "cell_type": "markdown",
   "metadata": {},
   "source": [
    "## Iterative approach\n",
    "\n",
    "This is a modified algorithm from the [paper](https://bit.ly/2QqHd4V), which performs iterative splitting to the dataset. The algorithm starts by calculating the desired number of examples and proportions for training and test sets. This is followed by estimating the desired number of examples of each label at each partition. Then the algorithm is iteratively examined an individual label, at a time, with the fewest examples. Then, for each example of this label, the algorithm selects appropriate partitions for distribution. Once the appropriate subset is selected, we add the example to the partition and decrement the number of desired examples for each label of this example as well as the total number of desired examples for that group.\n",
    "\n",
    "Let us apply this algorithm."
   ]
  },
  {
   "cell_type": "code",
   "execution_count": 8,
   "metadata": {
    "collapsed": false,
    "jupyter": {
     "outputs_hidden": false
    },
    "pycharm": {
     "name": "#%%\n"
    }
   },
   "outputs": [
    {
     "name": "stderr",
     "output_type": "stream",
     "text": [
      "## Configuration parameters to iteratively stratifying a multi-label\n",
      "   dataset splitting:\n",
      "\t\t1. Shuffle the dataset? True\n",
      "\t\t2. Split size: 0.8\n"
     ]
    },
    {
     "name": "stdout",
     "output_type": "stream",
     "text": [
      "\t>> Perform splitting (iterative)...\n",
      "\t\t--> Splitting progress: 100.00%...\r"
     ]
    }
   ],
   "source": [
    "st = IterativeStratification(shuffle=True, split_size=split_size)\n",
    "training_idx, test_idx = st.fit(y=y)"
   ]
  },
  {
   "cell_type": "code",
   "execution_count": 9,
   "metadata": {},
   "outputs": [
    {
     "data": {
      "text/html": [
       "<div>\n",
       "<style scoped>\n",
       "    .dataframe tbody tr th:only-of-type {\n",
       "        vertical-align: middle;\n",
       "    }\n",
       "\n",
       "    .dataframe tbody tr th {\n",
       "        vertical-align: top;\n",
       "    }\n",
       "\n",
       "    .dataframe thead th {\n",
       "        text-align: right;\n",
       "    }\n",
       "</style>\n",
       "<table border=\"1\" class=\"dataframe\">\n",
       "  <thead>\n",
       "    <tr style=\"text-align: right;\">\n",
       "      <th></th>\n",
       "      <th>Properties for birds</th>\n",
       "      <th>Complete set</th>\n",
       "      <th>Training set</th>\n",
       "      <th>Test set</th>\n",
       "    </tr>\n",
       "  </thead>\n",
       "  <tbody>\n",
       "    <tr>\n",
       "      <th>0</th>\n",
       "      <td>Number of examples</td>\n",
       "      <td>351</td>\n",
       "      <td>279</td>\n",
       "      <td>72</td>\n",
       "    </tr>\n",
       "    <tr>\n",
       "      <th>1</th>\n",
       "      <td>Number of labels</td>\n",
       "      <td>654</td>\n",
       "      <td>521</td>\n",
       "      <td>133</td>\n",
       "    </tr>\n",
       "    <tr>\n",
       "      <th>2</th>\n",
       "      <td>Label cardinality</td>\n",
       "      <td>1.863248</td>\n",
       "      <td>1.867384</td>\n",
       "      <td>1.847222</td>\n",
       "    </tr>\n",
       "    <tr>\n",
       "      <th>3</th>\n",
       "      <td>Label density</td>\n",
       "      <td>0.002849</td>\n",
       "      <td>0.003584</td>\n",
       "      <td>0.013889</td>\n",
       "    </tr>\n",
       "    <tr>\n",
       "      <th>4</th>\n",
       "      <td>Distinct label sets</td>\n",
       "      <td>19</td>\n",
       "      <td>19</td>\n",
       "      <td>19</td>\n",
       "    </tr>\n",
       "    <tr>\n",
       "      <th>5</th>\n",
       "      <td>Frequency of distinct label sets</td>\n",
       "      <td>0.054131</td>\n",
       "      <td>0.0681</td>\n",
       "      <td>0.263889</td>\n",
       "    </tr>\n",
       "    <tr>\n",
       "      <th>6</th>\n",
       "      <td>Labels having less than or equal to 5 examples</td>\n",
       "      <td>0</td>\n",
       "      <td>1</td>\n",
       "      <td>9</td>\n",
       "    </tr>\n",
       "    <tr>\n",
       "      <th>7</th>\n",
       "      <td>Labels having more than 6 examples</td>\n",
       "      <td>19</td>\n",
       "      <td>18</td>\n",
       "      <td>10</td>\n",
       "    </tr>\n",
       "    <tr>\n",
       "      <th>8</th>\n",
       "      <td>KL difference between complete and data partition</td>\n",
       "      <td>0</td>\n",
       "      <td>0.001513</td>\n",
       "      <td>0.02422</td>\n",
       "    </tr>\n",
       "  </tbody>\n",
       "</table>\n",
       "</div>"
      ],
      "text/plain": [
       "                                Properties for birds Complete set  \\\n",
       "0                                 Number of examples          351   \n",
       "1                                   Number of labels          654   \n",
       "2                                  Label cardinality     1.863248   \n",
       "3                                      Label density     0.002849   \n",
       "4                                Distinct label sets           19   \n",
       "5                   Frequency of distinct label sets     0.054131   \n",
       "6     Labels having less than or equal to 5 examples            0   \n",
       "7                 Labels having more than 6 examples           19   \n",
       "8  KL difference between complete and data partition            0   \n",
       "\n",
       "  Training set  Test set  \n",
       "0          279        72  \n",
       "1          521       133  \n",
       "2     1.867384  1.847222  \n",
       "3     0.003584  0.013889  \n",
       "4           19        19  \n",
       "5       0.0681  0.263889  \n",
       "6            1         9  \n",
       "7           18        10  \n",
       "8     0.001513   0.02422  "
      ]
     },
     "execution_count": 9,
     "metadata": {},
     "output_type": "execute_result"
    }
   ],
   "source": [
    "model_name = \"iterative2split\"\n",
    "df, chart = data_properties(y=y, selected_examples=[training_idx, test_idx], num_tails=5, dataset_name=dsname,\n",
    "                            model_name=model_name, rspath=RESULT_PATH, display_dataframe=False)\n",
    "df"
   ]
  },
  {
   "cell_type": "code",
   "execution_count": 10,
   "metadata": {},
   "outputs": [
    {
     "data": {
      "text/html": [
       "\n",
       "<div id=\"altair-viz-6aaa76caf359418e90ab175bf933a9a3\"></div>\n",
       "<script type=\"text/javascript\">\n",
       "  (function(spec, embedOpt){\n",
       "    let outputDiv = document.currentScript.previousElementSibling;\n",
       "    if (outputDiv.id !== \"altair-viz-6aaa76caf359418e90ab175bf933a9a3\") {\n",
       "      outputDiv = document.getElementById(\"altair-viz-6aaa76caf359418e90ab175bf933a9a3\");\n",
       "    }\n",
       "    const paths = {\n",
       "      \"vega\": \"https://cdn.jsdelivr.net/npm//vega@5?noext\",\n",
       "      \"vega-lib\": \"https://cdn.jsdelivr.net/npm//vega-lib?noext\",\n",
       "      \"vega-lite\": \"https://cdn.jsdelivr.net/npm//vega-lite@4.8.1?noext\",\n",
       "      \"vega-embed\": \"https://cdn.jsdelivr.net/npm//vega-embed@6?noext\",\n",
       "    };\n",
       "\n",
       "    function loadScript(lib) {\n",
       "      return new Promise(function(resolve, reject) {\n",
       "        var s = document.createElement('script');\n",
       "        s.src = paths[lib];\n",
       "        s.async = true;\n",
       "        s.onload = () => resolve(paths[lib]);\n",
       "        s.onerror = () => reject(`Error loading script: ${paths[lib]}`);\n",
       "        document.getElementsByTagName(\"head\")[0].appendChild(s);\n",
       "      });\n",
       "    }\n",
       "\n",
       "    function showError(err) {\n",
       "      outputDiv.innerHTML = `<div class=\"error\" style=\"color:red;\">${err}</div>`;\n",
       "      throw err;\n",
       "    }\n",
       "\n",
       "    function displayChart(vegaEmbed) {\n",
       "      vegaEmbed(outputDiv, spec, embedOpt)\n",
       "        .catch(err => showError(`Javascript Error: ${err.message}<br>This usually means there's a typo in your chart specification. See the javascript console for the full traceback.`));\n",
       "    }\n",
       "\n",
       "    if(typeof define === \"function\" && define.amd) {\n",
       "      requirejs.config({paths});\n",
       "      require([\"vega-embed\"], displayChart, err => showError(`Error loading script: ${err.message}`));\n",
       "    } else if (typeof vegaEmbed === \"function\") {\n",
       "      displayChart(vegaEmbed);\n",
       "    } else {\n",
       "      loadScript(\"vega\")\n",
       "        .then(() => loadScript(\"vega-lite\"))\n",
       "        .then(() => loadScript(\"vega-embed\"))\n",
       "        .catch(showError)\n",
       "        .then(() => displayChart(vegaEmbed));\n",
       "    }\n",
       "  })({\"data\": {\"name\": \"data-4045b09cf97a83f2b21667034231670c\"}, \"mark\": {\"type\": \"bar\", \"color\": \"grey\"}, \"config\": {\"axis\": {\"labelFontSize\": 12, \"labelLimit\": 500, \"labelPadding\": 5, \"titleFontSize\": 20}, \"axisY\": {\"grid\": false}, \"header\": {\"labelFontSize\": 15, \"titleFontSize\": 20}, \"legend\": {\"cornerRadius\": 10, \"fillColor\": \"white\", \"padding\": 10, \"strokeColor\": \"gray\"}}, \"encoding\": {\"color\": {\"type\": \"nominal\", \"field\": \"Dataset\", \"scale\": {\"range\": [\"red\", \"black\", \"blue\"]}}, \"x\": {\"type\": \"ordinal\", \"field\": \"Label\", \"sort\": \"ascending\", \"title\": \"Label ID\"}, \"y\": {\"type\": \"quantitative\", \"field\": \"Sum\", \"stack\": null, \"title\": \"Number of Examples\"}}, \"height\": 350, \"resolve\": {\"scale\": {\"x\": \"independent\"}}, \"width\": 600, \"$schema\": \"https://vega.github.io/schema/vega-lite/v4.8.1.json\", \"datasets\": {\"data-4045b09cf97a83f2b21667034231670c\": [{\"Label\": 1, \"Dataset\": \"Complete\", \"Sum\": 6}, {\"Label\": 2, \"Dataset\": \"Complete\", \"Sum\": 9}, {\"Label\": 3, \"Dataset\": \"Complete\", \"Sum\": 9}, {\"Label\": 4, \"Dataset\": \"Complete\", \"Sum\": 10}, {\"Label\": 5, \"Dataset\": \"Complete\", \"Sum\": 14}, {\"Label\": 6, \"Dataset\": \"Complete\", \"Sum\": 14}, {\"Label\": 7, \"Dataset\": \"Complete\", \"Sum\": 17}, {\"Label\": 8, \"Dataset\": \"Complete\", \"Sum\": 20}, {\"Label\": 9, \"Dataset\": \"Complete\", \"Sum\": 26}, {\"Label\": 10, \"Dataset\": \"Complete\", \"Sum\": 28}, {\"Label\": 11, \"Dataset\": \"Complete\", \"Sum\": 33}, {\"Label\": 12, \"Dataset\": \"Complete\", \"Sum\": 37}, {\"Label\": 13, \"Dataset\": \"Complete\", \"Sum\": 40}, {\"Label\": 14, \"Dataset\": \"Complete\", \"Sum\": 46}, {\"Label\": 15, \"Dataset\": \"Complete\", \"Sum\": 47}, {\"Label\": 16, \"Dataset\": \"Complete\", \"Sum\": 53}, {\"Label\": 17, \"Dataset\": \"Complete\", \"Sum\": 61}, {\"Label\": 18, \"Dataset\": \"Complete\", \"Sum\": 81}, {\"Label\": 19, \"Dataset\": \"Complete\", \"Sum\": 103}, {\"Label\": 1, \"Dataset\": \"Train\", \"Sum\": 5}, {\"Label\": 2, \"Dataset\": \"Train\", \"Sum\": 7}, {\"Label\": 3, \"Dataset\": \"Train\", \"Sum\": 7}, {\"Label\": 4, \"Dataset\": \"Train\", \"Sum\": 9}, {\"Label\": 5, \"Dataset\": \"Train\", \"Sum\": 12}, {\"Label\": 6, \"Dataset\": \"Train\", \"Sum\": 11}, {\"Label\": 7, \"Dataset\": \"Train\", \"Sum\": 14}, {\"Label\": 8, \"Dataset\": \"Train\", \"Sum\": 15}, {\"Label\": 9, \"Dataset\": \"Train\", \"Sum\": 20}, {\"Label\": 10, \"Dataset\": \"Train\", \"Sum\": 21}, {\"Label\": 11, \"Dataset\": \"Train\", \"Sum\": 26}, {\"Label\": 12, \"Dataset\": \"Train\", \"Sum\": 32}, {\"Label\": 13, \"Dataset\": \"Train\", \"Sum\": 34}, {\"Label\": 14, \"Dataset\": \"Train\", \"Sum\": 37}, {\"Label\": 15, \"Dataset\": \"Train\", \"Sum\": 35}, {\"Label\": 16, \"Dataset\": \"Train\", \"Sum\": 42}, {\"Label\": 17, \"Dataset\": \"Train\", \"Sum\": 47}, {\"Label\": 18, \"Dataset\": \"Train\", \"Sum\": 60}, {\"Label\": 19, \"Dataset\": \"Train\", \"Sum\": 87}, {\"Label\": 1, \"Dataset\": \"Test\", \"Sum\": 1}, {\"Label\": 2, \"Dataset\": \"Test\", \"Sum\": 2}, {\"Label\": 3, \"Dataset\": \"Test\", \"Sum\": 2}, {\"Label\": 4, \"Dataset\": \"Test\", \"Sum\": 1}, {\"Label\": 5, \"Dataset\": \"Test\", \"Sum\": 2}, {\"Label\": 6, \"Dataset\": \"Test\", \"Sum\": 3}, {\"Label\": 7, \"Dataset\": \"Test\", \"Sum\": 3}, {\"Label\": 8, \"Dataset\": \"Test\", \"Sum\": 5}, {\"Label\": 9, \"Dataset\": \"Test\", \"Sum\": 6}, {\"Label\": 10, \"Dataset\": \"Test\", \"Sum\": 7}, {\"Label\": 11, \"Dataset\": \"Test\", \"Sum\": 7}, {\"Label\": 12, \"Dataset\": \"Test\", \"Sum\": 5}, {\"Label\": 13, \"Dataset\": \"Test\", \"Sum\": 6}, {\"Label\": 14, \"Dataset\": \"Test\", \"Sum\": 9}, {\"Label\": 15, \"Dataset\": \"Test\", \"Sum\": 12}, {\"Label\": 16, \"Dataset\": \"Test\", \"Sum\": 11}, {\"Label\": 17, \"Dataset\": \"Test\", \"Sum\": 14}, {\"Label\": 18, \"Dataset\": \"Test\", \"Sum\": 21}, {\"Label\": 19, \"Dataset\": \"Test\", \"Sum\": 16}]}}, {\"mode\": \"vega-lite\"});\n",
       "</script>"
      ],
      "text/plain": [
       "alt.Chart(...)"
      ]
     },
     "execution_count": 10,
     "metadata": {},
     "output_type": "execute_result"
    }
   ],
   "source": [
    "chart"
   ]
  },
  {
   "cell_type": "markdown",
   "metadata": {},
   "source": [
    "As can be observed that this algorithm produces less optimum results (KL metric) in comparison to the Naive based approach."
   ]
  },
  {
   "cell_type": "markdown",
   "metadata": {},
   "source": [
    "## Stratifying XML data approach\n",
    "\n",
    "[paper](https://arxiv.org/pdf/2103.03494.pdf)\n",
    "\n",
    "CycleGAN uses a cycle consistency loss to enable training without the need for paired data. In other words, it can translate from one domain to another without a one-to-one mapping between the source and target domain.\n",
    "This opens up the possibility to do a lot of interesting tasks like photo-enhancement, image colorization, style transfer, etc. All you need is the source and the target dataset (which is simply a directory of images).\n",
    "\n",
    "As mentioned in the [paper](https://arxiv.org/abs/1703.10593), apply random jittering and mirroring to the training dataset. These are some of the image augmentation techniques that avoids overfitting."
   ]
  },
  {
   "cell_type": "code",
   "execution_count": null,
   "metadata": {
    "id": "iuGVPOo7Cce0"
   },
   "outputs": [],
   "source": [
    "st = ExtremeStratification(swap_probability=0.1, threshold_proportion=0.1, decay=0.1,\n",
    "                           shuffle=True, split_size=split_size, num_epochs=num_epochs)\n",
    "training_idx, test_idx = st.fit(X=X, y=y)"
   ]
  },
  {
   "cell_type": "code",
   "execution_count": null,
   "metadata": {},
   "outputs": [],
   "source": [
    "model_name = \"extreme2split\"\n",
    "df, chart = data_properties(y=y, selected_examples=[training_idx, test_idx], num_tails=5, dataset_name=dsname,\n",
    "                            model_name=model_name, rspath=RESULT_PATH, display_dataframe=False)\n",
    "df"
   ]
  },
  {
   "cell_type": "code",
   "execution_count": null,
   "metadata": {},
   "outputs": [],
   "source": [
    "chart"
   ]
  },
  {
   "cell_type": "markdown",
   "metadata": {},
   "source": [
    "## Clustering based strategy\n",
    "\n",
    "Note: This example model is trained for fewer epochs (40) than the paper (200) to keep training time reasonable for this tutorial. Predictions may be less accurate."
   ]
  },
  {
   "cell_type": "code",
   "execution_count": null,
   "metadata": {},
   "outputs": [],
   "source": [
    "st = ClusterStratification(num_clusters=5, swap_probability=0.1, threshold_proportion=0.1,\n",
    "                           decay=0.1, shuffle=True, split_size=split_size, batch_size=100,\n",
    "                           num_epochs=num_epochs, lr=0.0001, num_jobs=num_jobs)\n",
    "training_idx, test_idx = st.fit(X=X, y=y)"
   ]
  },
  {
   "cell_type": "code",
   "execution_count": null,
   "metadata": {},
   "outputs": [],
   "source": [
    "model_name = \"plssvd2split\"\n",
    "df, chart = data_properties(y=y, selected_examples=[training_idx, test_idx], num_tails=5, dataset_name=dsname,\n",
    "                            model_name=model_name, rspath=RESULT_PATH, display_dataframe=False)\n",
    "df"
   ]
  },
  {
   "cell_type": "code",
   "execution_count": null,
   "metadata": {},
   "outputs": [],
   "source": [
    "chart"
   ]
  },
  {
   "cell_type": "markdown",
   "metadata": {},
   "source": [
    "## Clustering eigenvalues based strategy\n",
    "\n",
    "Note: This example model is trained for fewer epochs (40) than the paper (200) to keep training time reasonable for this tutorial. Predictions may be less accurate."
   ]
  },
  {
   "cell_type": "code",
   "execution_count": null,
   "metadata": {},
   "outputs": [],
   "source": [
    "st = ClusteringEigenStratification(num_subsamples=10000, num_clusters=5, sigma=2, swap_probability=0.1,\n",
    "                                   threshold_proportion=0.1, decay=0.1, shuffle=True, split_size=split_size,\n",
    "                                   batch_size=500, num_epochs=num_epochs, num_jobs=num_jobs)\n",
    "training_idx, test_idx = st.fit(X=X, y=y)"
   ]
  },
  {
   "cell_type": "code",
   "execution_count": null,
   "metadata": {},
   "outputs": [],
   "source": [
    "model_name = \"eigencluster2split\"\n",
    "df, chart = data_properties(y=y, selected_examples=[training_idx, test_idx], num_tails=5, dataset_name=dsname,\n",
    "                            model_name=model_name, rspath=RESULT_PATH, display_dataframe=False)\n",
    "df"
   ]
  },
  {
   "cell_type": "code",
   "execution_count": null,
   "metadata": {},
   "outputs": [],
   "source": [
    "chart"
   ]
  },
  {
   "cell_type": "markdown",
   "metadata": {
    "id": "hvX8sKsfMaio"
   },
   "source": [
    "## Community based splitting strategy\n",
    "\n",
    "Import the generator and the discriminator used in [Pix2Pix](https://github.com/tensorflow/examples/blob/master/tensorflow_examples/models/pix2pix/pix2pix.py) via the installed [tensorflow_examples](https://github.com/tensorflow/examples) package.\n",
    "\n",
    "The model architecture used in this tutorial is very similar to what was used in [pix2pix](https://github.com/tensorflow/examples/blob/master/tensorflow_examples/models/pix2pix/pix2pix.py). Some of the differences are:\n",
    "\n",
    "* Cyclegan uses [instance normalization](https://arxiv.org/abs/1607.08022) instead of [batch normalization](https://arxiv.org/abs/1502.03167).\n",
    "* The [CycleGAN paper](https://arxiv.org/abs/1703.10593) uses a modified `resnet` based generator. This tutorial is using a modified `unet` generator for simplicity.\n",
    "\n",
    "There are 2 generators (G and F) and 2 discriminators (X and Y) being trained here. \n",
    "\n",
    "* Generator `G` learns to transform image `X` to image `Y`. $(G: X -> Y)$\n",
    "* Generator `F` learns to transform image `Y` to image `X`. $(F: Y -> X)$\n",
    "* Discriminator `D_X` learns to differentiate between image `X` and generated image `X` (`F(Y)`).\n",
    "* Discriminator `D_Y` learns to differentiate between image `Y` and generated image `Y` (`G(X)`)."
   ]
  },
  {
   "cell_type": "code",
   "execution_count": null,
   "metadata": {},
   "outputs": [],
   "source": [
    "st = CommunityStratification(num_subsamples=20000, num_communities=5, sigma=2, swap_probability=0.1,\n",
    "                             threshold_proportion=0.1, decay=0.1, shuffle=True, split_size=split_size,\n",
    "                             batch_size=500, num_epochs=num_epochs, num_jobs=num_jobs)\n",
    "training_idx, test_idx = st.fit(X=X, y=y)"
   ]
  },
  {
   "cell_type": "code",
   "execution_count": null,
   "metadata": {},
   "outputs": [],
   "source": [
    "model_name = \"comm2split\"\n",
    "df, chart = data_properties(y=y, selected_examples=[training_idx, test_idx], num_tails=5, dataset_name=dsname,\n",
    "                            model_name=model_name, rspath=RESULT_PATH, display_dataframe=False)\n",
    "df"
   ]
  },
  {
   "cell_type": "code",
   "execution_count": null,
   "metadata": {},
   "outputs": [],
   "source": [
    "chart"
   ]
  },
  {
   "cell_type": "markdown",
   "metadata": {},
   "source": [
    "## Label enhancement based strategy\n",
    "\n",
    "Note: This example model is trained for fewer epochs (40) than the paper (200) to keep training time reasonable for this tutorial. Predictions may be less accurate."
   ]
  },
  {
   "cell_type": "code",
   "execution_count": null,
   "metadata": {},
   "outputs": [],
   "source": [
    "st = LabelEnhancementStratification(num_subsamples=10000, num_communities=10, sigma=2, alpha=0.2,\n",
    "                                    swap_probability=0.1, threshold_proportion=0.1, decay=0.1, shuffle=True,\n",
    "                                    split_size=split_size, batch_size=500, num_epochs=num_epochs,\n",
    "                                    num_jobs=num_jobs)\n",
    "training_idx, test_idx = st.fit(X=X, y=y)"
   ]
  },
  {
   "cell_type": "code",
   "execution_count": null,
   "metadata": {},
   "outputs": [],
   "source": [
    "model_name = \"enhance2split\"\n",
    "df, chart = data_properties(y=y, selected_examples=[training_idx, test_idx], num_tails=5, dataset_name=dsname,\n",
    "                            model_name=model_name, rspath=RESULT_PATH, display_dataframe=False)\n",
    "df"
   ]
  },
  {
   "cell_type": "code",
   "execution_count": null,
   "metadata": {},
   "outputs": [],
   "source": [
    "chart"
   ]
  },
  {
   "cell_type": "markdown",
   "metadata": {
    "id": "aKUZnDiqQrAh"
   },
   "source": [
    "## Active learning based splitting strategy\n",
    "\n",
    "Note: This example model is trained for fewer epochs (40) than the paper (200) to keep training time reasonable for this tutorial. Predictions may be less accurate."
   ]
  },
  {
   "cell_type": "code",
   "execution_count": null,
   "metadata": {},
   "outputs": [],
   "source": [
    "st = ActiveStratification(subsample_labels_size=10, acquisition_type=\"entropy\", top_k=5, calc_ads=False,\n",
    "                          ads_percent=0.7, use_solver=use_solver, loss_function=\"hinge\", swap_probability=0.1,\n",
    "                          threshold_proportion=0.1, decay=0.1, penalty='elasticnet', alpha_elastic=0.0001,\n",
    "                          l1_ratio=0.65, alpha_l21=0.01, loss_threshold=0.05, shuffle=True,\n",
    "                          split_size=split_size, batch_size=500, num_epochs=num_epochs, lr=1e-3,\n",
    "                          display_interval=1, num_jobs=num_jobs)\n",
    "training_idx, test_idx = st.fit(X=X, y=y)"
   ]
  },
  {
   "cell_type": "code",
   "execution_count": null,
   "metadata": {},
   "outputs": [],
   "source": [
    "model_name = \"active2split\"\n",
    "df, chart = data_properties(y=y, selected_examples=[training_idx, test_idx], num_tails=5, dataset_name=dsname,\n",
    "                            model_name=model_name, rspath=RESULT_PATH, display_dataframe=False)\n",
    "df"
   ]
  },
  {
   "cell_type": "code",
   "execution_count": null,
   "metadata": {},
   "outputs": [],
   "source": [
    "chart"
   ]
  },
  {
   "cell_type": "markdown",
   "metadata": {
    "id": "aKUZnDiqQrAh"
   },
   "source": [
    "## GAN learning based splitting strategy\n",
    "\n",
    "Note: This example model is trained for fewer epochs (40) than the paper (200) to keep training time reasonable for this tutorial. Predictions may be less accurate."
   ]
  },
  {
   "cell_type": "code",
   "execution_count": null,
   "metadata": {},
   "outputs": [],
   "source": [
    "st = GANStratification(dimension_size=50, num_examples2gen=20, update_ratio=1, window_size=2,\n",
    "                       num_subsamples=10000, num_clusters=5, sigma=2, swap_probability=0.1,\n",
    "                       threshold_proportion=0.1, decay=0.1, shuffle=True, split_size=split_size,\n",
    "                       batch_size=1000, max_iter_gen=30, max_iter_dis=30, num_epochs=num_epochs, \n",
    "                       lambda_gen=1e-5, lambda_dis=1e-5, lr=1e-3, display_interval=2, \n",
    "                       num_jobs=num_jobs)\n",
    "training_idx, test_idx = st.fit(X=X, y=y)"
   ]
  },
  {
   "cell_type": "code",
   "execution_count": null,
   "metadata": {},
   "outputs": [],
   "source": [
    "model_name = \"gan2split\"\n",
    "df, chart = data_properties(y=y.toarray(), selected_examples=[training_idx, test_idx], num_tails=5, dataset_name=dsname,\n",
    "                            model_name=model_name, rspath=RESULT_PATH, display_dataframe=True, display_figure=True)\n",
    "df"
   ]
  },
  {
   "cell_type": "code",
   "execution_count": null,
   "metadata": {},
   "outputs": [],
   "source": [
    "chart"
   ]
  },
  {
   "cell_type": "markdown",
   "metadata": {
    "id": "ABGiHY6fE02b"
   },
   "source": [
    "## Next steps\n",
    "\n",
    "This tutorial has shown how to run various splitting algorithms while exploring outcomes. \n",
    "\n",
    "As a next step, you could try to improve the algorithms or analyze results on a large number of multi-label data or singly labeled data. Also, you may rerun the algorithms using different configurations. For instance, you could try setting the `split_type` parameter to `\"iterative\"` or `\"naive\"` or use a range of split size values (`split_size` $\\in (0,1)$) and document performance results. If you choose to apply `comom2split.py` or `enhance2split.py` then apply using smal labelset data."
   ]
  }
 ],
 "metadata": {
  "accelerator": "GPU",
  "colab": {
   "collapsed_sections": [],
   "name": "cyclegan.ipynb",
   "toc_visible": true
  },
  "kernelspec": {
   "display_name": "Python 3",
   "language": "python",
   "name": "python3"
  },
  "language_info": {
   "codemirror_mode": {
    "name": "ipython",
    "version": 3
   },
   "file_extension": ".py",
   "mimetype": "text/x-python",
   "name": "python",
   "nbconvert_exporter": "python",
   "pygments_lexer": "ipython3",
   "version": "3.8.8"
  }
 },
 "nbformat": 4,
 "nbformat_minor": 4
}